{
 "cells": [
  {
   "cell_type": "code",
   "execution_count": 1,
   "metadata": {},
   "outputs": [
    {
     "name": "stderr",
     "output_type": "stream",
     "text": [
      "2023-08-21 17:24:32.466385: I tensorflow/core/util/util.cc:169] oneDNN custom operations are on. You may see slightly different numerical results due to floating-point round-off errors from different computation orders. To turn them off, set the environment variable `TF_ENABLE_ONEDNN_OPTS=0`.\n"
     ]
    }
   ],
   "source": [
    "import tensorflow as tf\n",
    "import scipy"
   ]
  },
  {
   "cell_type": "code",
   "execution_count": 2,
   "metadata": {},
   "outputs": [
    {
     "data": {
      "text/plain": [
       "'2.9.1'"
      ]
     },
     "execution_count": 2,
     "metadata": {},
     "output_type": "execute_result"
    }
   ],
   "source": [
    "tf.__version__"
   ]
  },
  {
   "cell_type": "markdown",
   "metadata": {},
   "source": [
    "# Download Dataset"
   ]
  },
  {
   "cell_type": "code",
   "execution_count": 3,
   "metadata": {},
   "outputs": [],
   "source": [
    "#!git clone https://github.com/alexeygrigorev/clothing-dataset-small.git"
   ]
  },
  {
   "cell_type": "code",
   "execution_count": 4,
   "metadata": {},
   "outputs": [],
   "source": [
    "from tensorflow.keras.applications.xception import Xception\n",
    "from tensorflow.keras.applications.xception import preprocess_input\n",
    "from tensorflow.keras.applications.xception import decode_predictions\n",
    "from tensorflow.keras.preprocessing.image import ImageDataGenerator\n",
    "from tensorflow import keras\n"
   ]
  },
  {
   "cell_type": "markdown",
   "metadata": {},
   "source": [
    "## Model"
   ]
  },
  {
   "cell_type": "code",
   "execution_count": 5,
   "metadata": {},
   "outputs": [],
   "source": [
    "def make_model(input_size=150, learning_rate=0.01, size_inner=100,\n",
    "               droprate=0.5):\n",
    "\n",
    "    base_model = Xception(\n",
    "        weights='imagenet',\n",
    "        include_top=False,\n",
    "        input_shape=(input_size, input_size, 3)\n",
    "    )\n",
    "\n",
    "    base_model.trainable = False\n",
    "\n",
    "    #########################################\n",
    "\n",
    "    inputs = keras.Input(shape=(input_size, input_size, 3))\n",
    "    base = base_model(inputs, training=False)\n",
    "    vectors = keras.layers.GlobalAveragePooling2D()(base)\n",
    "    \n",
    "    inner = keras.layers.Dense(size_inner, activation='relu')(vectors)\n",
    "    drop = keras.layers.Dropout(droprate)(inner)\n",
    "    \n",
    "    outputs = keras.layers.Dense(10)(drop)\n",
    "    \n",
    "    model = keras.Model(inputs, outputs)\n",
    "    \n",
    "    #########################################\n",
    "\n",
    "    optimizer = keras.optimizers.Adam(learning_rate=learning_rate)\n",
    "    loss = keras.losses.CategoricalCrossentropy(from_logits=True)\n",
    "\n",
    "    model.compile(\n",
    "        optimizer=optimizer,\n",
    "        loss=loss,\n",
    "        metrics=['accuracy']\n",
    "    )\n",
    "\n",
    "    log_dir=\"/home/jovyan/workspace/logs/fit\"\n",
    "    callback=tf.keras.callbacks.TensorBoard(log_dir=log_dir,histogram_freq=0,\n",
    "    write_graph=True,\n",
    "    write_images=False,\n",
    "    write_steps_per_second=False,\n",
    "    update_freq='epoch',\n",
    "    profile_batch=0,\n",
    "    embeddings_freq=0,\n",
    "    embeddings_metadata=None,)\n",
    "    path_checkpoint = f\"/home/jovyan/workspace/xception_v4_1_{droprate}.h5\"\n",
    "    modelckpt_callback = tf.keras.callbacks.ModelCheckpoint(\n",
    "    monitor=\"val_accuracy\",\n",
    "    filepath=path_checkpoint,\n",
    "    verbose=1,\n",
    "    mode=\"max\",\n",
    "    save_weights_only=False,\n",
    "    save_best_only=True)\n",
    "    \n",
    "    return model, callback, modelckpt_callback"
   ]
  },
  {
   "cell_type": "code",
   "execution_count": 6,
   "metadata": {},
   "outputs": [],
   "source": [
    "input_size = 299"
   ]
  },
  {
   "cell_type": "code",
   "execution_count": 7,
   "metadata": {},
   "outputs": [
    {
     "name": "stdout",
     "output_type": "stream",
     "text": [
      "Found 3068 images belonging to 10 classes.\n",
      "Found 341 images belonging to 10 classes.\n"
     ]
    }
   ],
   "source": [
    "train_gen = ImageDataGenerator(\n",
    "    preprocessing_function=preprocess_input,\n",
    "    shear_range=10,\n",
    "    zoom_range=0.1,\n",
    "    horizontal_flip=True\n",
    ")\n",
    "\n",
    "train_ds = train_gen.flow_from_directory(\n",
    "    './clothing-dataset-small/train',\n",
    "    target_size=(input_size, input_size),\n",
    "    batch_size=32\n",
    ")\n",
    "\n",
    "\n",
    "val_gen = ImageDataGenerator(preprocessing_function=preprocess_input)\n",
    "\n",
    "val_ds = train_gen.flow_from_directory(\n",
    "    './clothing-dataset-small/validation',\n",
    "    target_size=(input_size, input_size),\n",
    "    batch_size=32,\n",
    "    shuffle=False\n",
    ")"
   ]
  },
  {
   "cell_type": "code",
   "execution_count": 8,
   "metadata": {},
   "outputs": [
    {
     "name": "stderr",
     "output_type": "stream",
     "text": [
      "2023-08-21 17:24:34.462089: I tensorflow/stream_executor/cuda/cuda_gpu_executor.cc:975] successful NUMA node read from SysFS had negative value (-1), but there must be at least one NUMA node, so returning NUMA node zero\n",
      "2023-08-21 17:24:34.468805: I tensorflow/stream_executor/cuda/cuda_gpu_executor.cc:975] successful NUMA node read from SysFS had negative value (-1), but there must be at least one NUMA node, so returning NUMA node zero\n",
      "2023-08-21 17:24:34.469035: I tensorflow/stream_executor/cuda/cuda_gpu_executor.cc:975] successful NUMA node read from SysFS had negative value (-1), but there must be at least one NUMA node, so returning NUMA node zero\n",
      "2023-08-21 17:24:34.469551: I tensorflow/core/platform/cpu_feature_guard.cc:193] This TensorFlow binary is optimized with oneAPI Deep Neural Network Library (oneDNN) to use the following CPU instructions in performance-critical operations:  AVX2 AVX512F AVX512_VNNI FMA\n",
      "To enable them in other operations, rebuild TensorFlow with the appropriate compiler flags.\n",
      "2023-08-21 17:24:34.469888: I tensorflow/stream_executor/cuda/cuda_gpu_executor.cc:975] successful NUMA node read from SysFS had negative value (-1), but there must be at least one NUMA node, so returning NUMA node zero\n",
      "2023-08-21 17:24:34.470101: I tensorflow/stream_executor/cuda/cuda_gpu_executor.cc:975] successful NUMA node read from SysFS had negative value (-1), but there must be at least one NUMA node, so returning NUMA node zero\n",
      "2023-08-21 17:24:34.470269: I tensorflow/stream_executor/cuda/cuda_gpu_executor.cc:975] successful NUMA node read from SysFS had negative value (-1), but there must be at least one NUMA node, so returning NUMA node zero\n",
      "2023-08-21 17:24:35.119054: I tensorflow/stream_executor/cuda/cuda_gpu_executor.cc:975] successful NUMA node read from SysFS had negative value (-1), but there must be at least one NUMA node, so returning NUMA node zero\n",
      "2023-08-21 17:24:35.119297: I tensorflow/stream_executor/cuda/cuda_gpu_executor.cc:975] successful NUMA node read from SysFS had negative value (-1), but there must be at least one NUMA node, so returning NUMA node zero\n",
      "2023-08-21 17:24:35.119475: I tensorflow/stream_executor/cuda/cuda_gpu_executor.cc:975] successful NUMA node read from SysFS had negative value (-1), but there must be at least one NUMA node, so returning NUMA node zero\n",
      "2023-08-21 17:24:35.119630: I tensorflow/core/common_runtime/gpu/gpu_device.cc:1532] Created device /job:localhost/replica:0/task:0/device:GPU:0 with 13794 MB memory:  -> device: 0, name: Tesla T4, pci bus id: 0000:00:1e.0, compute capability: 7.5\n"
     ]
    },
    {
     "name": "stdout",
     "output_type": "stream",
     "text": [
      "Epoch 1/20\n"
     ]
    },
    {
     "name": "stderr",
     "output_type": "stream",
     "text": [
      "2023-08-21 17:24:41.085647: I tensorflow/stream_executor/cuda/cuda_dnn.cc:384] Loaded cuDNN version 8100\n",
      "2023-08-21 17:24:41.731480: I tensorflow/core/platform/default/subprocess.cc:304] Start cannot spawn child process: No such file or directory\n",
      "2023-08-21 17:24:41.731962: I tensorflow/core/platform/default/subprocess.cc:304] Start cannot spawn child process: No such file or directory\n",
      "2023-08-21 17:24:41.732000: W tensorflow/stream_executor/gpu/asm_compiler.cc:80] Couldn't get ptxas version string: INTERNAL: Couldn't invoke ptxas --version\n",
      "2023-08-21 17:24:41.732513: I tensorflow/core/platform/default/subprocess.cc:304] Start cannot spawn child process: No such file or directory\n",
      "2023-08-21 17:24:41.732636: W tensorflow/stream_executor/gpu/redzone_allocator.cc:314] INTERNAL: Failed to launch ptxas\n",
      "Relying on driver to perform ptx compilation. \n",
      "Modify $PATH to customize ptxas location.\n",
      "This message will be only logged once.\n"
     ]
    },
    {
     "name": "stdout",
     "output_type": "stream",
     "text": [
      "96/96 [==============================] - ETA: 0s - loss: 1.0342 - accuracy: 0.6688\n",
      "Epoch 1: val_accuracy improved from -inf to 0.82405, saving model to /home/jovyan/workspace/xception_v4_1_0.2.h5\n",
      "96/96 [==============================] - 78s 758ms/step - loss: 1.0342 - accuracy: 0.6688 - val_loss: 0.5799 - val_accuracy: 0.8240\n",
      "Epoch 2/20\n",
      "96/96 [==============================] - ETA: 0s - loss: 0.5405 - accuracy: 0.8211\n",
      "Epoch 2: val_accuracy improved from 0.82405 to 0.85337, saving model to /home/jovyan/workspace/xception_v4_1_0.2.h5\n",
      "96/96 [==============================] - 70s 724ms/step - loss: 0.5405 - accuracy: 0.8211 - val_loss: 0.4675 - val_accuracy: 0.8534\n",
      "Epoch 3/20\n",
      "96/96 [==============================] - ETA: 0s - loss: 0.4581 - accuracy: 0.8406\n",
      "Epoch 3: val_accuracy did not improve from 0.85337\n",
      "96/96 [==============================] - 70s 729ms/step - loss: 0.4581 - accuracy: 0.8406 - val_loss: 0.4220 - val_accuracy: 0.8534\n",
      "Epoch 4/20\n",
      "96/96 [==============================] - ETA: 0s - loss: 0.3993 - accuracy: 0.8664\n",
      "Epoch 4: val_accuracy improved from 0.85337 to 0.87390, saving model to /home/jovyan/workspace/xception_v4_1_0.2.h5\n",
      "96/96 [==============================] - 70s 727ms/step - loss: 0.3993 - accuracy: 0.8664 - val_loss: 0.3947 - val_accuracy: 0.8739\n",
      "Epoch 5/20\n",
      "96/96 [==============================] - ETA: 0s - loss: 0.3592 - accuracy: 0.8810\n",
      "Epoch 5: val_accuracy did not improve from 0.87390\n",
      "96/96 [==============================] - 71s 733ms/step - loss: 0.3592 - accuracy: 0.8810 - val_loss: 0.3797 - val_accuracy: 0.8651\n",
      "Epoch 6/20\n",
      "96/96 [==============================] - ETA: 0s - loss: 0.3273 - accuracy: 0.8915\n",
      "Epoch 6: val_accuracy improved from 0.87390 to 0.88270, saving model to /home/jovyan/workspace/xception_v4_1_0.2.h5\n",
      "96/96 [==============================] - 71s 733ms/step - loss: 0.3273 - accuracy: 0.8915 - val_loss: 0.3587 - val_accuracy: 0.8827\n",
      "Epoch 7/20\n",
      "96/96 [==============================] - ETA: 0s - loss: 0.3006 - accuracy: 0.8980\n",
      "Epoch 7: val_accuracy did not improve from 0.88270\n",
      "96/96 [==============================] - 69s 714ms/step - loss: 0.3006 - accuracy: 0.8980 - val_loss: 0.3637 - val_accuracy: 0.8798\n",
      "Epoch 8/20\n",
      "96/96 [==============================] - ETA: 0s - loss: 0.2699 - accuracy: 0.9071\n",
      "Epoch 8: val_accuracy did not improve from 0.88270\n",
      "96/96 [==============================] - 68s 708ms/step - loss: 0.2699 - accuracy: 0.9071 - val_loss: 0.3866 - val_accuracy: 0.8710\n",
      "Epoch 9/20\n",
      "96/96 [==============================] - ETA: 0s - loss: 0.2702 - accuracy: 0.9113\n",
      "Epoch 9: val_accuracy improved from 0.88270 to 0.88563, saving model to /home/jovyan/workspace/xception_v4_1_0.2.h5\n",
      "96/96 [==============================] - 68s 704ms/step - loss: 0.2702 - accuracy: 0.9113 - val_loss: 0.3622 - val_accuracy: 0.8856\n",
      "Epoch 10/20\n",
      "96/96 [==============================] - ETA: 0s - loss: 0.2565 - accuracy: 0.9110\n",
      "Epoch 10: val_accuracy did not improve from 0.88563\n",
      "96/96 [==============================] - 68s 705ms/step - loss: 0.2565 - accuracy: 0.9110 - val_loss: 0.3576 - val_accuracy: 0.8680\n",
      "Epoch 11/20\n",
      "96/96 [==============================] - ETA: 0s - loss: 0.2321 - accuracy: 0.9211\n",
      "Epoch 11: val_accuracy did not improve from 0.88563\n",
      "96/96 [==============================] - 67s 701ms/step - loss: 0.2321 - accuracy: 0.9211 - val_loss: 0.3483 - val_accuracy: 0.8710\n",
      "Epoch 12/20\n",
      "96/96 [==============================] - ETA: 0s - loss: 0.2244 - accuracy: 0.9205\n",
      "Epoch 12: val_accuracy did not improve from 0.88563\n",
      "96/96 [==============================] - 67s 695ms/step - loss: 0.2244 - accuracy: 0.9205 - val_loss: 0.3468 - val_accuracy: 0.8680\n",
      "Epoch 13/20\n",
      "96/96 [==============================] - ETA: 0s - loss: 0.2079 - accuracy: 0.9299\n",
      "Epoch 13: val_accuracy did not improve from 0.88563\n",
      "96/96 [==============================] - 69s 713ms/step - loss: 0.2079 - accuracy: 0.9299 - val_loss: 0.3749 - val_accuracy: 0.8798\n",
      "Epoch 14/20\n",
      "96/96 [==============================] - ETA: 0s - loss: 0.1946 - accuracy: 0.9348\n",
      "Epoch 14: val_accuracy did not improve from 0.88563\n",
      "96/96 [==============================] - 68s 712ms/step - loss: 0.1946 - accuracy: 0.9348 - val_loss: 0.3821 - val_accuracy: 0.8856\n",
      "Epoch 15/20\n",
      "96/96 [==============================] - ETA: 0s - loss: 0.1956 - accuracy: 0.9361\n",
      "Epoch 15: val_accuracy did not improve from 0.88563\n",
      "96/96 [==============================] - 68s 706ms/step - loss: 0.1956 - accuracy: 0.9361 - val_loss: 0.3635 - val_accuracy: 0.8680\n",
      "Epoch 16/20\n",
      "96/96 [==============================] - ETA: 0s - loss: 0.1758 - accuracy: 0.9404\n",
      "Epoch 16: val_accuracy improved from 0.88563 to 0.89150, saving model to /home/jovyan/workspace/xception_v4_1_0.2.h5\n",
      "96/96 [==============================] - 69s 712ms/step - loss: 0.1758 - accuracy: 0.9404 - val_loss: 0.3397 - val_accuracy: 0.8915\n",
      "Epoch 17/20\n",
      "96/96 [==============================] - ETA: 0s - loss: 0.1674 - accuracy: 0.9449\n",
      "Epoch 17: val_accuracy did not improve from 0.89150\n",
      "96/96 [==============================] - 68s 703ms/step - loss: 0.1674 - accuracy: 0.9449 - val_loss: 0.3677 - val_accuracy: 0.8739\n",
      "Epoch 18/20\n",
      "96/96 [==============================] - ETA: 0s - loss: 0.1582 - accuracy: 0.9518\n",
      "Epoch 18: val_accuracy did not improve from 0.89150\n",
      "96/96 [==============================] - 68s 702ms/step - loss: 0.1582 - accuracy: 0.9518 - val_loss: 0.3466 - val_accuracy: 0.8768\n",
      "Epoch 19/20\n",
      "96/96 [==============================] - ETA: 0s - loss: 0.1578 - accuracy: 0.9469\n",
      "Epoch 19: val_accuracy did not improve from 0.89150\n",
      "96/96 [==============================] - 68s 703ms/step - loss: 0.1578 - accuracy: 0.9469 - val_loss: 0.3622 - val_accuracy: 0.8856\n",
      "Epoch 20/20\n",
      "96/96 [==============================] - ETA: 0s - loss: 0.1520 - accuracy: 0.9478\n",
      "Epoch 20: val_accuracy did not improve from 0.89150\n",
      "96/96 [==============================] - 68s 704ms/step - loss: 0.1520 - accuracy: 0.9478 - val_loss: 0.3924 - val_accuracy: 0.8768\n"
     ]
    }
   ],
   "source": [
    "learning_rate = 0.0005\n",
    "size = 100\n",
    "droprate = 0.2\n",
    "\n",
    "model, callback, modelckpt_callback = make_model(\n",
    "    input_size=input_size,\n",
    "    learning_rate=learning_rate,\n",
    "    size_inner=size,\n",
    "    droprate=droprate\n",
    ")\n",
    "\n",
    "history = model.fit(train_ds, epochs=20, validation_data=val_ds,\n",
    "                   callbacks=[callback, modelckpt_callback])"
   ]
  },
  {
   "cell_type": "code",
   "execution_count": 12,
   "metadata": {},
   "outputs": [],
   "source": [
    "import matplotlib.pyplot as plt"
   ]
  },
  {
   "cell_type": "code",
   "execution_count": 16,
   "metadata": {},
   "outputs": [
    {
     "data": {
      "image/png": "[encoded data removed]",
      "text/plain": [
       "<Figure size 1500x1000 with 2 Axes>"
      ]
     },
     "metadata": {},
     "output_type": "display_data"
    }
   ],
   "source": [
    "scores ={}\n",
    "acc = history.history[\"accuracy\"]\n",
    "val_acc = history.history[\"val_accuracy\"]\n",
    "loss = history.history[\"loss\"]\n",
    "val_loss = history.history[\"val_loss\"]\n",
    "epochs = range(len(acc))\n",
    "plt.figure(figsize=(15,10))\n",
    "plt.subplot(2, 2, 1)\n",
    "plt.plot(epochs, acc, \"r\", label=\"traning accuracy\")\n",
    "plt.plot(epochs, val_acc, \"b\", label=\"validation accuracy\")\n",
    "plt.title(f\"training and validation accuracy\")\n",
    "plt.legend(loc=0)\n",
    "plt.subplot(2, 2, 2)\n",
    "plt.plot(epochs, loss, \"r\", label=\"traning loss\")\n",
    "plt.plot(epochs, val_loss, \"b\", label=\"validation loss\")\n",
    "plt.title(f\"training and validation loss\")\n",
    "plt.legend(loc=0)\n",
    "plt.show()"
   ]
  },
  {
   "cell_type": "code",
   "execution_count": 17,
   "metadata": {},
   "outputs": [
    {
     "name": "stdout",
     "output_type": "stream",
     "text": [
      "11/11 [==============================] - 7s 612ms/step - loss: 0.3955 - accuracy: 0.8768\n"
     ]
    },
    {
     "data": {
      "text/plain": [
       "[0.3955017328262329, 0.8768328428268433]"
      ]
     },
     "execution_count": 17,
     "metadata": {},
     "output_type": "execute_result"
    }
   ],
   "source": [
    "model.evaluate(val_ds)"
   ]
  },
  {
   "cell_type": "code",
   "execution_count": 19,
   "metadata": {},
   "outputs": [
    {
     "name": "stdout",
     "output_type": "stream",
     "text": [
      "Found 372 images belonging to 10 classes.\n"
     ]
    }
   ],
   "source": [
    "TEST_DIR = \"/home/jovyan/workspace/clothing-dataset-small/test\"\n",
    "test_datagen = ImageDataGenerator(rescale = 1./255)\n",
    "test_generator = test_datagen.flow_from_directory(\n",
    "  TEST_DIR,\n",
    "  target_size=(249,249),\n",
    "  class_mode=\"categorical\",\n",
    "  batch_size=128)"
   ]
  },
  {
   "cell_type": "code",
   "execution_count": 20,
   "metadata": {},
   "outputs": [
    {
     "name": "stdout",
     "output_type": "stream",
     "text": [
      "3/3 [==============================] - 9s 2s/step - loss: 0.3403 - accuracy: 0.8898\n"
     ]
    },
    {
     "data": {
      "text/plain": [
       "[0.34027838706970215, 0.8897849321365356]"
      ]
     },
     "execution_count": 20,
     "metadata": {},
     "output_type": "execute_result"
    }
   ],
   "source": [
    "model.evaluate(test_generator)"
   ]
  },
  {
   "cell_type": "markdown",
   "metadata": {},
   "source": [
    "## Register Model on Huggingface"
   ]
  },
  {
   "cell_type": "code",
   "execution_count": 23,
   "metadata": {},
   "outputs": [
    {
     "data": {
      "application/vnd.jupyter.widget-view+json": {
       "model_id": "a98a01ec62514455b3846342f51f330e",
       "version_major": 2,
       "version_minor": 0
      },
      "text/plain": [
       "VBox(children=(HTML(value='<center> <img\\nsrc=https://huggingface.co/front/assets/huggingface_logo-noborder.sv…"
      ]
     },
     "metadata": {},
     "output_type": "display_data"
    }
   ],
   "source": [
    "from huggingface_hub import push_to_hub_keras\n",
    "from huggingface_hub import notebook_login\n",
    "notebook_login()"
   ]
  },
  {
   "cell_type": "code",
   "execution_count": 24,
   "metadata": {},
   "outputs": [
    {
     "name": "stderr",
     "output_type": "stream",
     "text": [
      "WARNING:absl:Found untraced functions such as _jit_compiled_convolution_op, _jit_compiled_convolution_op, _jit_compiled_convolution_op, _jit_compiled_convolution_op, _jit_compiled_convolution_op while saving (showing 5 of 40). These functions will not be directly callable after loading.\n"
     ]
    },
    {
     "name": "stdout",
     "output_type": "stream",
     "text": [
      "INFO:tensorflow:Assets written to: /tmp/tmpgnam4gq4/yusyel/clothing/assets\n"
     ]
    },
    {
     "name": "stderr",
     "output_type": "stream",
     "text": [
      "INFO:tensorflow:Assets written to: /tmp/tmpgnam4gq4/yusyel/clothing/assets\n"
     ]
    },
    {
     "data": {
      "application/vnd.jupyter.widget-view+json": {
       "model_id": "c4f21d260c6e48a4949d5f2fd59b6d01",
       "version_major": 2,
       "version_minor": 0
      },
      "text/plain": [
       "keras_metadata.pb:   0%|          | 0.00/482k [00:00<?, ?B/s]"
      ]
     },
     "metadata": {},
     "output_type": "display_data"
    },
    {
     "data": {
      "application/vnd.jupyter.widget-view+json": {
       "model_id": "3d276c663ad042e8afbf4fea11b2bd2b",
       "version_major": 2,
       "version_minor": 0
      },
      "text/plain": [
       "events.out.tfevents.1691170563.w-yusye-fish-93c488524fe84e469abfb4db4d275806-848bc6cb78-bpfgc.10908.0.v2:   0%…"
      ]
     },
     "metadata": {},
     "output_type": "display_data"
    },
    {
     "data": {
      "application/vnd.jupyter.widget-view+json": {
       "model_id": "fd6796cb49c8445a8668651912f1691f",
       "version_major": 2,
       "version_minor": 0
      },
      "text/plain": [
       "events.out.tfevents.1692636688.w-yusye-fish-93c488524fe84e469abfb4db4d275806-848bc6cb78-t6xqn.4421.2.v2:   0%|…"
      ]
     },
     "metadata": {},
     "output_type": "display_data"
    },
    {
     "data": {
      "application/vnd.jupyter.widget-view+json": {
       "model_id": "784066a8023f4944a86b082cb7279e0d",
       "version_major": 2,
       "version_minor": 0
      },
      "text/plain": [
       "Upload 14 LFS files:   0%|          | 0/14 [00:00<?, ?it/s]"
      ]
     },
     "metadata": {},
     "output_type": "display_data"
    },
    {
     "data": {
      "application/vnd.jupyter.widget-view+json": {
       "model_id": "ebec030faa4a49fa9c2db81f0e5abf3b",
       "version_major": 2,
       "version_minor": 0
      },
      "text/plain": [
       "events.out.tfevents.1691050399.w-yusye-fish-93c488524fe84e469abfb4db4d275806-848bc6cb78-jxcvf.19964.0.v2:   0%…"
      ]
     },
     "metadata": {},
     "output_type": "display_data"
    },
    {
     "data": {
      "application/vnd.jupyter.widget-view+json": {
       "model_id": "5d1e5d4306254d7cba16f8422ecb1745",
       "version_major": 2,
       "version_minor": 0
      },
      "text/plain": [
       "events.out.tfevents.1692636434.w-yusye-fish-93c488524fe84e469abfb4db4d275806-848bc6cb78-t6xqn.4421.0.v2:   0%|…"
      ]
     },
     "metadata": {},
     "output_type": "display_data"
    },
    {
     "data": {
      "application/vnd.jupyter.widget-view+json": {
       "model_id": "2faaee1b7f7e483fbd2466a633f20e63",
       "version_major": 2,
       "version_minor": 0
      },
      "text/plain": [
       "events.out.tfevents.1692636743.w-yusye-fish-93c488524fe84e469abfb4db4d275806-848bc6cb78-t6xqn.4421.3.v2:   0%|…"
      ]
     },
     "metadata": {},
     "output_type": "display_data"
    },
    {
     "data": {
      "application/vnd.jupyter.widget-view+json": {
       "model_id": "868422fecf0f4783938d4641f493df40",
       "version_major": 2,
       "version_minor": 0
      },
      "text/plain": [
       "events.out.tfevents.1692638677.w-yusye-fish-93c488524fe84e469abfb4db4d275806-848bc6cb78-6hkml.686.0.v2:   0%| …"
      ]
     },
     "metadata": {},
     "output_type": "display_data"
    },
    {
     "data": {
      "application/vnd.jupyter.widget-view+json": {
       "model_id": "3cfa7c4166c14b3eb7a0a7151a7670f5",
       "version_major": 2,
       "version_minor": 0
      },
      "text/plain": [
       "events.out.tfevents.1691050454.w-yusye-fish-93c488524fe84e469abfb4db4d275806-848bc6cb78-jxcvf.19964.1.v2:   0%…"
      ]
     },
     "metadata": {},
     "output_type": "display_data"
    },
    {
     "data": {
      "application/vnd.jupyter.widget-view+json": {
       "model_id": "ba14488e95b94360ad650c65183a40e3",
       "version_major": 2,
       "version_minor": 0
      },
      "text/plain": [
       "events.out.tfevents.1691170616.w-yusye-fish-93c488524fe84e469abfb4db4d275806-848bc6cb78-bpfgc.10908.1.v2:   0%…"
      ]
     },
     "metadata": {},
     "output_type": "display_data"
    },
    {
     "data": {
      "application/vnd.jupyter.widget-view+json": {
       "model_id": "991d458c2e2845a5ba85cc90e281b8fd",
       "version_major": 2,
       "version_minor": 0
      },
      "text/plain": [
       "events.out.tfevents.1692636503.w-yusye-fish-93c488524fe84e469abfb4db4d275806-848bc6cb78-t6xqn.4421.1.v2:   0%|…"
      ]
     },
     "metadata": {},
     "output_type": "display_data"
    },
    {
     "data": {
      "application/vnd.jupyter.widget-view+json": {
       "model_id": "22eaf9aea56041d690062a781ecc8783",
       "version_major": 2,
       "version_minor": 0
      },
      "text/plain": [
       "events.out.tfevents.1692636808.w-yusye-fish-93c488524fe84e469abfb4db4d275806-848bc6cb78-t6xqn.4421.4.v2:   0%|…"
      ]
     },
     "metadata": {},
     "output_type": "display_data"
    },
    {
     "data": {
      "application/vnd.jupyter.widget-view+json": {
       "model_id": "d9ffb4173e2f4a95b89af67d658f2a3c",
       "version_major": 2,
       "version_minor": 0
      },
      "text/plain": [
       "events.out.tfevents.1692638746.w-yusye-fish-93c488524fe84e469abfb4db4d275806-848bc6cb78-6hkml.686.1.v2:   0%| …"
      ]
     },
     "metadata": {},
     "output_type": "display_data"
    },
    {
     "data": {
      "application/vnd.jupyter.widget-view+json": {
       "model_id": "32e90de2b128425d9031140084d7d8f4",
       "version_major": 2,
       "version_minor": 0
      },
      "text/plain": [
       "saved_model.pb:   0%|          | 0.00/2.90M [00:00<?, ?B/s]"
      ]
     },
     "metadata": {},
     "output_type": "display_data"
    },
    {
     "data": {
      "application/vnd.jupyter.widget-view+json": {
       "model_id": "d06a7729a9654e12885be21173d901be",
       "version_major": 2,
       "version_minor": 0
      },
      "text/plain": [
       "variables.data-00000-of-00001:   0%|          | 0.00/86.0M [00:00<?, ?B/s]"
      ]
     },
     "metadata": {},
     "output_type": "display_data"
    },
    {
     "data": {
      "text/plain": [
       "'https://huggingface.co/yusyel/clothing/tree/main/'"
      ]
     },
     "execution_count": 24,
     "metadata": {},
     "output_type": "execute_result"
    }
   ],
   "source": [
    "push_to_hub_keras(model,\n",
    "  \"yusyel/clothing\",\n",
    "  include_optimizer = True,\n",
    "  tags = [\"fashion\"],\n",
    "log_dir = \"/home/jovyan/workspace/logs/fit\",\n",
    "\n",
    ")"
   ]
  }
 ],
 "metadata": {
  "kernelspec": {
   "display_name": "saturn",
   "language": "python",
   "name": "python3"
  },
  "language_info": {
   "codemirror_mode": {
    "name": "ipython",
    "version": 3
   },
   "file_extension": ".py",
   "mimetype": "text/x-python",
   "name": "python",
   "nbconvert_exporter": "python",
   "pygments_lexer": "ipython3",
   "version": "3.9.15"
  },
  "orig_nbformat": 4
 },
 "nbformat": 4,
 "nbformat_minor": 2
}
